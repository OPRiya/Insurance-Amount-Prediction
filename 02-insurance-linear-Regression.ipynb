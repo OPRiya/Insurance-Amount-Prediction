{
 "cells": [
  {
   "cell_type": "markdown",
   "metadata": {
    "_cell_guid": "b1076dfc-b9ad-4769-8c92-a6c4dae69d19",
    "_uuid": "8f2839f25d086af736a60e9eeb907d3b93b6e0e5",
    "id": "6oRdVADEzlaB"
   },
   "source": [
    "# Insurance cost prediction using linear regression\n",
    "\n",
    "Make a submisson here: https://jovian.ai/learn/deep-learning-with-pytorch-zero-to-gans/assignment/assignment-2-train-your-first-model\n",
    "\n",
    "In this assignment we're going to use information like a person's age, sex, BMI, no. of children and smoking habit to predict the price of yearly medical bills. This kind of model is useful for insurance companies to determine the yearly insurance premium for a person. The dataset for this problem is taken from [Kaggle](https://www.kaggle.com/mirichoi0218/insurance).\n",
    "\n",
    "\n",
    "We will create a model with the following steps:\n",
    "1. Download and explore the dataset\n",
    "2. Prepare the dataset for training\n",
    "3. Create a linear regression model\n",
    "4. Train the model to fit the data\n",
    "5. Make predictions using the trained model\n",
    "\n",
    "\n",
    "This assignment builds upon the concepts from the first 2 lessons. It will help to review these Jupyter notebooks:\n",
    "- PyTorch basics: https://jovian.ai/aakashns/01-pytorch-basics\n",
    "- Linear Regression: https://jovian.ai/aakashns/02-linear-regression\n",
    "- Logistic Regression: https://jovian.ai/aakashns/03-logistic-regression\n",
    "- Linear regression (minimal): https://jovian.ai/aakashns/housing-linear-minimal\n",
    "- Logistic regression (minimal): https://jovian.ai/aakashns/mnist-logistic-minimal\n",
    "\n",
    "As you go through this notebook, you will find a **???** in certain places. Your job is to replace the **???** with appropriate code or values, to ensure that the notebook runs properly end-to-end . In some cases, you'll be required to choose some hyperparameters (learning rate, batch size etc.). Try to experiment with the hypeparameters to get the lowest loss.\n"
   ]
  },
  {
   "cell_type": "code",
   "execution_count": null,
   "metadata": {
    "id": "QU2h-8U7zlaE"
   },
   "outputs": [],
   "source": [
    "# Uncomment and run the appropriate command for your operating system, if required\n",
    "\n",
    "# Linux / Binder\n",
    "# !pip install numpy matplotlib pandas torch==1.7.0+cpu torchvision==0.8.1+cpu torchaudio==0.7.0 -f https://download.pytorch.org/whl/torch_stable.html\n",
    "\n",
    "# Windows\n",
    "# !pip install numpy matplotlib pandas torch==1.7.0+cpu torchvision==0.8.1+cpu torchaudio==0.7.0 -f https://download.pytorch.org/whl/torch_stable.html\n",
    "\n",
    "# MacOS\n",
    "# !pip install numpy matplotlib pandas torch torchvision torchaudio"
   ]
  },
  {
   "cell_type": "code",
   "execution_count": 342,
   "metadata": {
    "executionInfo": {
     "elapsed": 1076,
     "status": "ok",
     "timestamp": 1611664798182,
     "user": {
      "displayName": "RIYA LAMBA",
      "photoUrl": "https://lh6.googleusercontent.com/-0cgP7UWnuGU/AAAAAAAAAAI/AAAAAAAAAHI/bB7sL8n8DaQ/s64/photo.jpg",
      "userId": "02188969418639816712"
     },
     "user_tz": -330
    },
    "id": "p-sAc2IPzlaF"
   },
   "outputs": [],
   "source": [
    "import torch\n",
    "import jovian\n",
    "import torchvision\n",
    "import torch.nn as nn\n",
    "import pandas as pd\n",
    "import matplotlib.pyplot as plt\n",
    "import torch.nn.functional as F\n",
    "from torchvision.datasets.utils import download_url\n",
    "from torch.utils.data import DataLoader, TensorDataset, random_split"
   ]
  },
  {
   "cell_type": "code",
   "execution_count": 343,
   "metadata": {
    "executionInfo": {
     "elapsed": 1237,
     "status": "ok",
     "timestamp": 1611664814780,
     "user": {
      "displayName": "RIYA LAMBA",
      "photoUrl": "https://lh6.googleusercontent.com/-0cgP7UWnuGU/AAAAAAAAAAI/AAAAAAAAAHI/bB7sL8n8DaQ/s64/photo.jpg",
      "userId": "02188969418639816712"
     },
     "user_tz": -330
    },
    "id": "4U-NvvoszlaG"
   },
   "outputs": [],
   "source": [
    "project_name='assignment2' # will be used by jovian.commit"
   ]
  },
  {
   "cell_type": "markdown",
   "metadata": {
    "id": "l2dNwWtvzlaH"
   },
   "source": [
    "## Step 1: Download and explore the data\n",
    "\n",
    "Let us begin by downloading the data. We'll use the `download_url` function from PyTorch to get the data as a CSV (comma-separated values) file. "
   ]
  },
  {
   "cell_type": "code",
   "execution_count": 345,
   "metadata": {
    "_cell_guid": "79c7e3d0-c299-4dcb-8224-4455121ee9b0",
    "_uuid": "d629ff2d2480ee46fbb7e2d37f6b5fab8052498a",
    "colab": {
     "base_uri": "https://localhost:8080/"
    },
    "executionInfo": {
     "elapsed": 1225,
     "status": "ok",
     "timestamp": 1611664874548,
     "user": {
      "displayName": "RIYA LAMBA",
      "photoUrl": "https://lh6.googleusercontent.com/-0cgP7UWnuGU/AAAAAAAAAAI/AAAAAAAAAHI/bB7sL8n8DaQ/s64/photo.jpg",
      "userId": "02188969418639816712"
     },
     "user_tz": -330
    },
    "id": "ng-YkCTLzlaI",
    "outputId": "dc0141a6-1ad9-4596-afc9-ba27dcf82a7f"
   },
   "outputs": [
    {
     "name": "stdout",
     "output_type": "stream",
     "text": [
      "Using downloaded and verified file: ./insurance.csv\n"
     ]
    }
   ],
   "source": [
    "DATASET_URL = \"https://hub.jovian.ml/wp-content/uploads/2020/05/insurance.csv\"\n",
    "DATA_FILENAME = \"insurance.csv\"\n",
    "download_url(DATASET_URL, '.')"
   ]
  },
  {
   "cell_type": "markdown",
   "metadata": {
    "id": "pBFd-uSIzlaL"
   },
   "source": [
    "To load the dataset into memory, we'll use the `read_csv` function from the `pandas` library. The data will be loaded as a Pandas dataframe. See this short tutorial to learn more: https://data36.com/pandas-tutorial-1-basics-reading-data-files-dataframes-data-selection/"
   ]
  },
  {
   "cell_type": "code",
   "execution_count": 346,
   "metadata": {
    "colab": {
     "base_uri": "https://localhost:8080/",
     "height": 195
    },
    "executionInfo": {
     "elapsed": 1105,
     "status": "ok",
     "timestamp": 1611664878445,
     "user": {
      "displayName": "RIYA LAMBA",
      "photoUrl": "https://lh6.googleusercontent.com/-0cgP7UWnuGU/AAAAAAAAAAI/AAAAAAAAAHI/bB7sL8n8DaQ/s64/photo.jpg",
      "userId": "02188969418639816712"
     },
     "user_tz": -330
    },
    "id": "XSFovoiUzlaM",
    "outputId": "06dda63b-e36b-4c70-ff3c-115fda79397c"
   },
   "outputs": [
    {
     "data": {
      "text/html": [
       "<div>\n",
       "<style scoped>\n",
       "    .dataframe tbody tr th:only-of-type {\n",
       "        vertical-align: middle;\n",
       "    }\n",
       "\n",
       "    .dataframe tbody tr th {\n",
       "        vertical-align: top;\n",
       "    }\n",
       "\n",
       "    .dataframe thead th {\n",
       "        text-align: right;\n",
       "    }\n",
       "</style>\n",
       "<table border=\"1\" class=\"dataframe\">\n",
       "  <thead>\n",
       "    <tr style=\"text-align: right;\">\n",
       "      <th></th>\n",
       "      <th>age</th>\n",
       "      <th>sex</th>\n",
       "      <th>bmi</th>\n",
       "      <th>children</th>\n",
       "      <th>smoker</th>\n",
       "      <th>region</th>\n",
       "      <th>charges</th>\n",
       "    </tr>\n",
       "  </thead>\n",
       "  <tbody>\n",
       "    <tr>\n",
       "      <th>0</th>\n",
       "      <td>19</td>\n",
       "      <td>female</td>\n",
       "      <td>27.900</td>\n",
       "      <td>0</td>\n",
       "      <td>yes</td>\n",
       "      <td>southwest</td>\n",
       "      <td>16884.92400</td>\n",
       "    </tr>\n",
       "    <tr>\n",
       "      <th>1</th>\n",
       "      <td>18</td>\n",
       "      <td>male</td>\n",
       "      <td>33.770</td>\n",
       "      <td>1</td>\n",
       "      <td>no</td>\n",
       "      <td>southeast</td>\n",
       "      <td>1725.55230</td>\n",
       "    </tr>\n",
       "    <tr>\n",
       "      <th>2</th>\n",
       "      <td>28</td>\n",
       "      <td>male</td>\n",
       "      <td>33.000</td>\n",
       "      <td>3</td>\n",
       "      <td>no</td>\n",
       "      <td>southeast</td>\n",
       "      <td>4449.46200</td>\n",
       "    </tr>\n",
       "    <tr>\n",
       "      <th>3</th>\n",
       "      <td>33</td>\n",
       "      <td>male</td>\n",
       "      <td>22.705</td>\n",
       "      <td>0</td>\n",
       "      <td>no</td>\n",
       "      <td>northwest</td>\n",
       "      <td>21984.47061</td>\n",
       "    </tr>\n",
       "    <tr>\n",
       "      <th>4</th>\n",
       "      <td>32</td>\n",
       "      <td>male</td>\n",
       "      <td>28.880</td>\n",
       "      <td>0</td>\n",
       "      <td>no</td>\n",
       "      <td>northwest</td>\n",
       "      <td>3866.85520</td>\n",
       "    </tr>\n",
       "  </tbody>\n",
       "</table>\n",
       "</div>"
      ],
      "text/plain": [
       "   age     sex     bmi  children smoker     region      charges\n",
       "0   19  female  27.900         0    yes  southwest  16884.92400\n",
       "1   18    male  33.770         1     no  southeast   1725.55230\n",
       "2   28    male  33.000         3     no  southeast   4449.46200\n",
       "3   33    male  22.705         0     no  northwest  21984.47061\n",
       "4   32    male  28.880         0     no  northwest   3866.85520"
      ]
     },
     "execution_count": 346,
     "metadata": {
      "tags": []
     },
     "output_type": "execute_result"
    }
   ],
   "source": [
    "dataframe_raw = pd.read_csv(DATA_FILENAME)\n",
    "dataframe_raw.head()"
   ]
  },
  {
   "cell_type": "markdown",
   "metadata": {
    "id": "Tt7BmL8PzlaN"
   },
   "source": [
    "We're going to do a slight customization of the data, so that you every participant receives a slightly different version of the dataset. Fill in your name below as a string (enter at least 5 characters)"
   ]
  },
  {
   "cell_type": "code",
   "execution_count": 347,
   "metadata": {
    "executionInfo": {
     "elapsed": 1077,
     "status": "ok",
     "timestamp": 1611664882033,
     "user": {
      "displayName": "RIYA LAMBA",
      "photoUrl": "https://lh6.googleusercontent.com/-0cgP7UWnuGU/AAAAAAAAAAI/AAAAAAAAAHI/bB7sL8n8DaQ/s64/photo.jpg",
      "userId": "02188969418639816712"
     },
     "user_tz": -330
    },
    "id": "-qupSQv1zlaN"
   },
   "outputs": [],
   "source": [
    "your_name = 'Riya_Lamba' # at least 5 characters"
   ]
  },
  {
   "cell_type": "markdown",
   "metadata": {
    "id": "VP6tmGybzlaQ"
   },
   "source": [
    "The `customize_dataset` function will customize the dataset slightly using your name as a source of random numbers."
   ]
  },
  {
   "cell_type": "code",
   "execution_count": 348,
   "metadata": {
    "executionInfo": {
     "elapsed": 1046,
     "status": "ok",
     "timestamp": 1611664885693,
     "user": {
      "displayName": "RIYA LAMBA",
      "photoUrl": "https://lh6.googleusercontent.com/-0cgP7UWnuGU/AAAAAAAAAAI/AAAAAAAAAHI/bB7sL8n8DaQ/s64/photo.jpg",
      "userId": "02188969418639816712"
     },
     "user_tz": -330
    },
    "id": "hXcZsxMvzlaR"
   },
   "outputs": [],
   "source": [
    "def customize_dataset(dataframe_raw, rand_str):\n",
    "    dataframe = dataframe_raw.copy(deep=True)\n",
    "    # drop some rows\n",
    "    dataframe = dataframe.sample(int(0.95*len(dataframe)), random_state=int(ord(rand_str[0])))\n",
    "    # scale input\n",
    "    dataframe.bmi = dataframe.bmi * ord(rand_str[1])/100.\n",
    "    # scale target\n",
    "    dataframe.charges = dataframe.charges * ord(rand_str[2])/100.\n",
    "    # drop column\n",
    "    if ord(rand_str[3]) % 2 == 1:\n",
    "        dataframe = dataframe.drop(['region'], axis=1)\n",
    "    return dataframe"
   ]
  },
  {
   "cell_type": "code",
   "execution_count": 349,
   "metadata": {
    "colab": {
     "base_uri": "https://localhost:8080/",
     "height": 195
    },
    "executionInfo": {
     "elapsed": 1045,
     "status": "ok",
     "timestamp": 1611664890166,
     "user": {
      "displayName": "RIYA LAMBA",
      "photoUrl": "https://lh6.googleusercontent.com/-0cgP7UWnuGU/AAAAAAAAAAI/AAAAAAAAAHI/bB7sL8n8DaQ/s64/photo.jpg",
      "userId": "02188969418639816712"
     },
     "user_tz": -330
    },
    "id": "r5Mqp3cXzlaR",
    "outputId": "f65f589c-581b-4acd-d48b-263afcced24b"
   },
   "outputs": [
    {
     "data": {
      "text/html": [
       "<div>\n",
       "<style scoped>\n",
       "    .dataframe tbody tr th:only-of-type {\n",
       "        vertical-align: middle;\n",
       "    }\n",
       "\n",
       "    .dataframe tbody tr th {\n",
       "        vertical-align: top;\n",
       "    }\n",
       "\n",
       "    .dataframe thead th {\n",
       "        text-align: right;\n",
       "    }\n",
       "</style>\n",
       "<table border=\"1\" class=\"dataframe\">\n",
       "  <thead>\n",
       "    <tr style=\"text-align: right;\">\n",
       "      <th></th>\n",
       "      <th>age</th>\n",
       "      <th>sex</th>\n",
       "      <th>bmi</th>\n",
       "      <th>children</th>\n",
       "      <th>smoker</th>\n",
       "      <th>charges</th>\n",
       "    </tr>\n",
       "  </thead>\n",
       "  <tbody>\n",
       "    <tr>\n",
       "      <th>457</th>\n",
       "      <td>57</td>\n",
       "      <td>female</td>\n",
       "      <td>32.01975</td>\n",
       "      <td>0</td>\n",
       "      <td>no</td>\n",
       "      <td>14327.337811</td>\n",
       "    </tr>\n",
       "    <tr>\n",
       "      <th>1050</th>\n",
       "      <td>44</td>\n",
       "      <td>female</td>\n",
       "      <td>38.80275</td>\n",
       "      <td>1</td>\n",
       "      <td>no</td>\n",
       "      <td>9707.993894</td>\n",
       "    </tr>\n",
       "    <tr>\n",
       "      <th>56</th>\n",
       "      <td>58</td>\n",
       "      <td>female</td>\n",
       "      <td>33.41625</td>\n",
       "      <td>2</td>\n",
       "      <td>no</td>\n",
       "      <td>16464.916187</td>\n",
       "    </tr>\n",
       "    <tr>\n",
       "      <th>311</th>\n",
       "      <td>19</td>\n",
       "      <td>female</td>\n",
       "      <td>25.93500</td>\n",
       "      <td>0</td>\n",
       "      <td>no</td>\n",
       "      <td>2102.224960</td>\n",
       "    </tr>\n",
       "    <tr>\n",
       "      <th>1288</th>\n",
       "      <td>20</td>\n",
       "      <td>male</td>\n",
       "      <td>41.37000</td>\n",
       "      <td>2</td>\n",
       "      <td>yes</td>\n",
       "      <td>46396.924860</td>\n",
       "    </tr>\n",
       "  </tbody>\n",
       "</table>\n",
       "</div>"
      ],
      "text/plain": [
       "      age     sex       bmi  children smoker       charges\n",
       "457    57  female  32.01975         0     no  14327.337811\n",
       "1050   44  female  38.80275         1     no   9707.993894\n",
       "56     58  female  33.41625         2     no  16464.916187\n",
       "311    19  female  25.93500         0     no   2102.224960\n",
       "1288   20    male  41.37000         2    yes  46396.924860"
      ]
     },
     "execution_count": 349,
     "metadata": {
      "tags": []
     },
     "output_type": "execute_result"
    }
   ],
   "source": [
    "dataframe = customize_dataset(dataframe_raw, your_name)\n",
    "dataframe.head()"
   ]
  },
  {
   "cell_type": "markdown",
   "metadata": {
    "id": "7XOVcnRPzlaS"
   },
   "source": [
    "Let us answer some basic questions about the dataset. \n",
    "\n",
    "\n",
    "**Q: How many rows does the dataset have?**"
   ]
  },
  {
   "cell_type": "code",
   "execution_count": 350,
   "metadata": {
    "colab": {
     "base_uri": "https://localhost:8080/"
    },
    "executionInfo": {
     "elapsed": 1151,
     "status": "ok",
     "timestamp": 1611664894868,
     "user": {
      "displayName": "RIYA LAMBA",
      "photoUrl": "https://lh6.googleusercontent.com/-0cgP7UWnuGU/AAAAAAAAAAI/AAAAAAAAAHI/bB7sL8n8DaQ/s64/photo.jpg",
      "userId": "02188969418639816712"
     },
     "user_tz": -330
    },
    "id": "RYeI8JUXzlaT",
    "outputId": "c8824bad-b2ab-45ec-e8ca-79e7a001c560"
   },
   "outputs": [
    {
     "name": "stdout",
     "output_type": "stream",
     "text": [
      "1271\n"
     ]
    }
   ],
   "source": [
    "num_rows = len(dataframe)\n",
    "print(num_rows)"
   ]
  },
  {
   "cell_type": "markdown",
   "metadata": {
    "id": "tXRFhppkzlaT"
   },
   "source": [
    "**Q: How many columns doe the dataset have**"
   ]
  },
  {
   "cell_type": "code",
   "execution_count": 351,
   "metadata": {
    "colab": {
     "base_uri": "https://localhost:8080/"
    },
    "executionInfo": {
     "elapsed": 1206,
     "status": "ok",
     "timestamp": 1611664898841,
     "user": {
      "displayName": "RIYA LAMBA",
      "photoUrl": "https://lh6.googleusercontent.com/-0cgP7UWnuGU/AAAAAAAAAAI/AAAAAAAAAHI/bB7sL8n8DaQ/s64/photo.jpg",
      "userId": "02188969418639816712"
     },
     "user_tz": -330
    },
    "id": "4xTPTlDzzlaT",
    "outputId": "9b55e943-c2dd-48a2-dcee-ae1b09fc258f"
   },
   "outputs": [
    {
     "name": "stdout",
     "output_type": "stream",
     "text": [
      "6\n"
     ]
    }
   ],
   "source": [
    "num_cols = len(dataframe.columns)\n",
    "print(num_cols)"
   ]
  },
  {
   "cell_type": "markdown",
   "metadata": {
    "id": "DEwEyd5BzlaU"
   },
   "source": [
    "**Q: What are the column titles of the input variables?**"
   ]
  },
  {
   "cell_type": "code",
   "execution_count": 352,
   "metadata": {
    "executionInfo": {
     "elapsed": 1146,
     "status": "ok",
     "timestamp": 1611664902610,
     "user": {
      "displayName": "RIYA LAMBA",
      "photoUrl": "https://lh6.googleusercontent.com/-0cgP7UWnuGU/AAAAAAAAAAI/AAAAAAAAAHI/bB7sL8n8DaQ/s64/photo.jpg",
      "userId": "02188969418639816712"
     },
     "user_tz": -330
    },
    "id": "LR4BJWmazlaV"
   },
   "outputs": [],
   "source": [
    "input_cols = ['age',\t'sex',\t'bmi',\t'children',\t'smoker']"
   ]
  },
  {
   "cell_type": "markdown",
   "metadata": {
    "id": "MVAaKbNpzlaV"
   },
   "source": [
    "**Q: Which of the input columns are non-numeric or categorial variables ?**\n",
    "\n",
    "Hint: `sex` is one of them. List the columns that are not numbers."
   ]
  },
  {
   "cell_type": "code",
   "execution_count": 353,
   "metadata": {
    "colab": {
     "base_uri": "https://localhost:8080/",
     "height": 52
    },
    "executionInfo": {
     "elapsed": 1206,
     "status": "ok",
     "timestamp": 1611664906214,
     "user": {
      "displayName": "RIYA LAMBA",
      "photoUrl": "https://lh6.googleusercontent.com/-0cgP7UWnuGU/AAAAAAAAAAI/AAAAAAAAAHI/bB7sL8n8DaQ/s64/photo.jpg",
      "userId": "02188969418639816712"
     },
     "user_tz": -330
    },
    "id": "fLjZYvBozlaW",
    "outputId": "c21579d4-1c40-4beb-e5c3-dcd40bdf143a"
   },
   "outputs": [
    {
     "data": {
      "application/vnd.google.colaboratory.intrinsic+json": {
       "type": "string"
      },
      "text/plain": [
       "\"cols = df.columns\\n\\nIn [67]: num_cols = df._get_numeric_data().columns\\n\\nIn [68]: num_cols\\nOut[68]: Index([u'0', u'1', u'2'], dtype='object')\\n\\nIn [69]: list(set(cols) - set(num_cols))\\nOut[69]: ['3', '4']\""
      ]
     },
     "execution_count": 353,
     "metadata": {
      "tags": []
     },
     "output_type": "execute_result"
    }
   ],
   "source": [
    "categorical_cols = ['sex', 'smoker']\r\n",
    "categorical_cols\r\n",
    "## mathematically can be done by\r\n",
    "'''cols = df.columns\r\n",
    "\r\n",
    "In [67]: num_cols = df._get_numeric_data().columns\r\n",
    "\r\n",
    "In [68]: num_cols\r\n",
    "Out[68]: Index([u'0', u'1', u'2'], dtype='object')\r\n",
    "\r\n",
    "In [69]: list(set(cols) - set(num_cols))\r\n",
    "Out[69]: ['3', '4']'''"
   ]
  },
  {
   "cell_type": "markdown",
   "metadata": {
    "id": "vDggdv4szlaW"
   },
   "source": [
    "**Q: What are the column titles of output/target variable(s)?**"
   ]
  },
  {
   "cell_type": "code",
   "execution_count": 354,
   "metadata": {
    "executionInfo": {
     "elapsed": 1416,
     "status": "ok",
     "timestamp": 1611664911245,
     "user": {
      "displayName": "RIYA LAMBA",
      "photoUrl": "https://lh6.googleusercontent.com/-0cgP7UWnuGU/AAAAAAAAAAI/AAAAAAAAAHI/bB7sL8n8DaQ/s64/photo.jpg",
      "userId": "02188969418639816712"
     },
     "user_tz": -330
    },
    "id": "TK_cL_9czlaX"
   },
   "outputs": [],
   "source": [
    "output_cols = ['charges']"
   ]
  },
  {
   "cell_type": "markdown",
   "metadata": {
    "id": "oCPjd2wHzlaX"
   },
   "source": [
    "**Q: (Optional) What is the minimum, maximum and average value of the `charges` column? Can you show the distribution of values in a graph?**\n",
    "Use this data visualization cheatsheet for referece: https://jovian.ml/aakashns/dataviz-cheatsheet"
   ]
  },
  {
   "cell_type": "code",
   "execution_count": null,
   "metadata": {
    "id": "fGUwQ2qQzlaX"
   },
   "outputs": [],
   "source": [
    "# Write your answer here"
   ]
  },
  {
   "cell_type": "markdown",
   "metadata": {
    "id": "mjn9vXGlzlaY"
   },
   "source": [
    "Remember to commit your notebook to Jovian after every step, so that you don't lose your work."
   ]
  },
  {
   "cell_type": "code",
   "execution_count": 355,
   "metadata": {
    "executionInfo": {
     "elapsed": 3747,
     "status": "ok",
     "timestamp": 1611664923752,
     "user": {
      "displayName": "RIYA LAMBA",
      "photoUrl": "https://lh6.googleusercontent.com/-0cgP7UWnuGU/AAAAAAAAAAI/AAAAAAAAAHI/bB7sL8n8DaQ/s64/photo.jpg",
      "userId": "02188969418639816712"
     },
     "user_tz": -330
    },
    "id": "933tCliSzlaY"
   },
   "outputs": [],
   "source": [
    "!pip install jovian --upgrade -q"
   ]
  },
  {
   "cell_type": "code",
   "execution_count": 356,
   "metadata": {
    "executionInfo": {
     "elapsed": 1037,
     "status": "ok",
     "timestamp": 1611664942666,
     "user": {
      "displayName": "RIYA LAMBA",
      "photoUrl": "https://lh6.googleusercontent.com/-0cgP7UWnuGU/AAAAAAAAAAI/AAAAAAAAAHI/bB7sL8n8DaQ/s64/photo.jpg",
      "userId": "02188969418639816712"
     },
     "user_tz": -330
    },
    "id": "cAZrrr7szlaY"
   },
   "outputs": [],
   "source": [
    "import jovian"
   ]
  },
  {
   "cell_type": "code",
   "execution_count": 359,
   "metadata": {
    "colab": {
     "base_uri": "https://localhost:8080/",
     "height": 102
    },
    "executionInfo": {
     "elapsed": 2988,
     "status": "ok",
     "timestamp": 1611665063329,
     "user": {
      "displayName": "RIYA LAMBA",
      "photoUrl": "https://lh6.googleusercontent.com/-0cgP7UWnuGU/AAAAAAAAAAI/AAAAAAAAAHI/bB7sL8n8DaQ/s64/photo.jpg",
      "userId": "02188969418639816712"
     },
     "user_tz": -330
    },
    "id": "R8N1r5QPzlaZ",
    "outputId": "849afde1-762d-4db4-862e-e095df7bf1dd"
   },
   "outputs": [
    {
     "name": "stdout",
     "output_type": "stream",
     "text": [
      "[jovian] Detected Colab notebook...\u001b[0m\n",
      "[jovian] Uploading colab notebook to Jovian...\u001b[0m\n",
      "[jovian] Attaching records (metrics, hyperparameters, dataset etc.)\u001b[0m\n",
      "[jovian] Committed successfully! https://jovian.ai/2019mcb1229/assignment2\u001b[0m\n"
     ]
    },
    {
     "data": {
      "application/vnd.google.colaboratory.intrinsic+json": {
       "type": "string"
      },
      "text/plain": [
       "'https://jovian.ai/2019mcb1229/assignment2'"
      ]
     },
     "execution_count": 359,
     "metadata": {
      "tags": []
     },
     "output_type": "execute_result"
    }
   ],
   "source": [
    "\r\n",
    "jovian.commit(project=project_name, environment=None)"
   ]
  },
  {
   "cell_type": "markdown",
   "metadata": {
    "id": "2ov7SIZizlaZ"
   },
   "source": [
    "## Step 2: Prepare the dataset for training\n",
    "\n",
    "We need to convert the data from the Pandas dataframe into a PyTorch tensors for training. To do this, the first step is to convert it numpy arrays. If you've filled out `input_cols`, `categorial_cols` and `output_cols` correctly, this following function will perform the conversion to numpy arrays."
   ]
  },
  {
   "cell_type": "code",
   "execution_count": 360,
   "metadata": {
    "executionInfo": {
     "elapsed": 1074,
     "status": "ok",
     "timestamp": 1611665089737,
     "user": {
      "displayName": "RIYA LAMBA",
      "photoUrl": "https://lh6.googleusercontent.com/-0cgP7UWnuGU/AAAAAAAAAAI/AAAAAAAAAHI/bB7sL8n8DaQ/s64/photo.jpg",
      "userId": "02188969418639816712"
     },
     "user_tz": -330
    },
    "id": "S48Mr1ESzlaa"
   },
   "outputs": [],
   "source": [
    "def dataframe_to_arrays(dataframe):\n",
    "    # Make a copy of the original dataframe\n",
    "    dataframe1 = dataframe.copy(deep=True)\n",
    "    # Convert non-numeric categorical columns to numbers\n",
    "    for col in categorical_cols:\n",
    "        dataframe1[col] = dataframe1[col].astype('category').cat.codes\n",
    "    # Extract input & outupts as numpy arrays\n",
    "    inputs_array = dataframe1[input_cols].to_numpy()\n",
    "    targets_array = dataframe1[output_cols].to_numpy()\n",
    "    return inputs_array, targets_array"
   ]
  },
  {
   "cell_type": "markdown",
   "metadata": {
    "id": "2_MDC9eVzlac"
   },
   "source": [
    "Read through the [Pandas documentation](https://pandas.pydata.org/pandas-docs/stable/user_guide/categorical.html) to understand how we're converting categorical variables into numbers."
   ]
  },
  {
   "cell_type": "code",
   "execution_count": 361,
   "metadata": {
    "colab": {
     "base_uri": "https://localhost:8080/"
    },
    "executionInfo": {
     "elapsed": 1073,
     "status": "ok",
     "timestamp": 1611665092306,
     "user": {
      "displayName": "RIYA LAMBA",
      "photoUrl": "https://lh6.googleusercontent.com/-0cgP7UWnuGU/AAAAAAAAAAI/AAAAAAAAAHI/bB7sL8n8DaQ/s64/photo.jpg",
      "userId": "02188969418639816712"
     },
     "user_tz": -330
    },
    "id": "XB9mmEthzlad",
    "outputId": "95d8a9f8-514d-4640-d6cc-8f0b5ef0049e"
   },
   "outputs": [
    {
     "data": {
      "text/plain": [
       "(array([[57.     ,  0.     , 32.01975,  0.     ,  0.     ],\n",
       "        [44.     ,  0.     , 38.80275,  1.     ,  0.     ],\n",
       "        [58.     ,  0.     , 33.41625,  2.     ,  0.     ],\n",
       "        ...,\n",
       "        [59.     ,  0.     , 36.54   ,  2.     ,  0.     ],\n",
       "        [41.     ,  1.     , 30.24   ,  1.     ,  0.     ],\n",
       "        [36.     ,  0.     , 31.521  ,  0.     ,  0.     ]]),\n",
       " array([[14327.3378105],\n",
       "        [ 9707.9938945],\n",
       "        [16464.9161875],\n",
       "        ...,\n",
       "        [44661.8357163],\n",
       "        [ 7601.50435  ],\n",
       "        [ 6379.332718 ]]))"
      ]
     },
     "execution_count": 361,
     "metadata": {
      "tags": []
     },
     "output_type": "execute_result"
    }
   ],
   "source": [
    "inputs_array, targets_array = dataframe_to_arrays(dataframe)\n",
    "inputs_array, targets_array"
   ]
  },
  {
   "cell_type": "markdown",
   "metadata": {
    "id": "mbMMUQ_9zlad"
   },
   "source": [
    "**Q: Convert the numpy arrays `inputs_array` and `targets_array` into PyTorch tensors. Make sure that the data type is `torch.float32`.**"
   ]
  },
  {
   "cell_type": "code",
   "execution_count": 362,
   "metadata": {
    "executionInfo": {
     "elapsed": 1294,
     "status": "ok",
     "timestamp": 1611665095307,
     "user": {
      "displayName": "RIYA LAMBA",
      "photoUrl": "https://lh6.googleusercontent.com/-0cgP7UWnuGU/AAAAAAAAAAI/AAAAAAAAAHI/bB7sL8n8DaQ/s64/photo.jpg",
      "userId": "02188969418639816712"
     },
     "user_tz": -330
    },
    "id": "XnYusQtvzlae"
   },
   "outputs": [],
   "source": [
    "inputs = torch.from_numpy(inputs_array)\n",
    "inputs=inputs.float()\n",
    "targets = torch.from_numpy(targets_array)\n",
    "targets= targets.float()"
   ]
  },
  {
   "cell_type": "code",
   "execution_count": 363,
   "metadata": {
    "colab": {
     "base_uri": "https://localhost:8080/"
    },
    "executionInfo": {
     "elapsed": 1064,
     "status": "ok",
     "timestamp": 1611665097675,
     "user": {
      "displayName": "RIYA LAMBA",
      "photoUrl": "https://lh6.googleusercontent.com/-0cgP7UWnuGU/AAAAAAAAAAI/AAAAAAAAAHI/bB7sL8n8DaQ/s64/photo.jpg",
      "userId": "02188969418639816712"
     },
     "user_tz": -330
    },
    "id": "7Kz4IwKfzlae",
    "outputId": "641e34d8-4547-4e28-f876-9376c3e03c4c"
   },
   "outputs": [
    {
     "data": {
      "text/plain": [
       "(torch.float32, torch.float32)"
      ]
     },
     "execution_count": 363,
     "metadata": {
      "tags": []
     },
     "output_type": "execute_result"
    }
   ],
   "source": [
    "inputs.dtype, targets.dtype"
   ]
  },
  {
   "cell_type": "markdown",
   "metadata": {
    "id": "_PnIfmMGzlaf"
   },
   "source": [
    "Next, we need to create PyTorch datasets & data loaders for training & validation. We'll start by creating a `TensorDataset`."
   ]
  },
  {
   "cell_type": "code",
   "execution_count": 364,
   "metadata": {
    "executionInfo": {
     "elapsed": 1060,
     "status": "ok",
     "timestamp": 1611665100104,
     "user": {
      "displayName": "RIYA LAMBA",
      "photoUrl": "https://lh6.googleusercontent.com/-0cgP7UWnuGU/AAAAAAAAAAI/AAAAAAAAAHI/bB7sL8n8DaQ/s64/photo.jpg",
      "userId": "02188969418639816712"
     },
     "user_tz": -330
    },
    "id": "Fu6zjGtxzlaf"
   },
   "outputs": [],
   "source": [
    "dataset = TensorDataset(inputs, targets)"
   ]
  },
  {
   "cell_type": "markdown",
   "metadata": {
    "id": "wa9OGp2Yzlag"
   },
   "source": [
    "**Q: Pick a number between `0.1` and `0.2` to determine the fraction of data that will be used for creating the validation set. Then use `random_split` to create training & validation datasets.**"
   ]
  },
  {
   "cell_type": "code",
   "execution_count": 365,
   "metadata": {
    "executionInfo": {
     "elapsed": 1048,
     "status": "ok",
     "timestamp": 1611665103072,
     "user": {
      "displayName": "RIYA LAMBA",
      "photoUrl": "https://lh6.googleusercontent.com/-0cgP7UWnuGU/AAAAAAAAAAI/AAAAAAAAAHI/bB7sL8n8DaQ/s64/photo.jpg",
      "userId": "02188969418639816712"
     },
     "user_tz": -330
    },
    "id": "D_jXlwf2zlag"
   },
   "outputs": [],
   "source": [
    "val_percent = 0.15 # between 0.1 and 0.2\n",
    "val_size = int(num_rows * val_percent)\n",
    "train_size = num_rows - val_size\n",
    "\n",
    "\n",
    "train_ds, val_ds = random_split(dataset,[train_size, val_size]) # Use the random_split function to split dataset into 2 parts of the desired length"
   ]
  },
  {
   "cell_type": "markdown",
   "metadata": {
    "id": "pOf3c0X6zlah"
   },
   "source": [
    "Finally, we can create data loaders for training & validation.\n",
    "\n",
    "**Q: Pick a batch size for the data loader.**"
   ]
  },
  {
   "cell_type": "code",
   "execution_count": 366,
   "metadata": {
    "executionInfo": {
     "elapsed": 1105,
     "status": "ok",
     "timestamp": 1611665107292,
     "user": {
      "displayName": "RIYA LAMBA",
      "photoUrl": "https://lh6.googleusercontent.com/-0cgP7UWnuGU/AAAAAAAAAAI/AAAAAAAAAHI/bB7sL8n8DaQ/s64/photo.jpg",
      "userId": "02188969418639816712"
     },
     "user_tz": -330
    },
    "id": "3IxDZhzAzlah"
   },
   "outputs": [],
   "source": [
    "batch_size = 40"
   ]
  },
  {
   "cell_type": "code",
   "execution_count": 367,
   "metadata": {
    "executionInfo": {
     "elapsed": 1365,
     "status": "ok",
     "timestamp": 1611665110243,
     "user": {
      "displayName": "RIYA LAMBA",
      "photoUrl": "https://lh6.googleusercontent.com/-0cgP7UWnuGU/AAAAAAAAAAI/AAAAAAAAAHI/bB7sL8n8DaQ/s64/photo.jpg",
      "userId": "02188969418639816712"
     },
     "user_tz": -330
    },
    "id": "Y7IEzsGlzlai"
   },
   "outputs": [],
   "source": [
    "train_loader = DataLoader(train_ds, batch_size, shuffle=True)\n",
    "val_loader = DataLoader(val_ds, batch_size)"
   ]
  },
  {
   "cell_type": "markdown",
   "metadata": {
    "id": "-KCmnboszlai"
   },
   "source": [
    "Let's look at a batch of data to verify everything is working fine so far."
   ]
  },
  {
   "cell_type": "code",
   "execution_count": 368,
   "metadata": {
    "colab": {
     "base_uri": "https://localhost:8080/"
    },
    "executionInfo": {
     "elapsed": 1130,
     "status": "ok",
     "timestamp": 1611665112465,
     "user": {
      "displayName": "RIYA LAMBA",
      "photoUrl": "https://lh6.googleusercontent.com/-0cgP7UWnuGU/AAAAAAAAAAI/AAAAAAAAAHI/bB7sL8n8DaQ/s64/photo.jpg",
      "userId": "02188969418639816712"
     },
     "user_tz": -330
    },
    "id": "xEX2k0twzlai",
    "outputId": "1f5aff7e-a9e2-472b-fa85-c8408b415619"
   },
   "outputs": [
    {
     "name": "stdout",
     "output_type": "stream",
     "text": [
      "inputs: tensor([[40.0000,  1.0000, 37.0650,  3.0000,  0.0000],\n",
      "        [32.0000,  0.0000, 31.2218,  0.0000,  0.0000],\n",
      "        [21.0000,  1.0000, 32.8177,  0.0000,  0.0000],\n",
      "        [37.0000,  1.0000, 29.4263,  2.0000,  0.0000],\n",
      "        [53.0000,  0.0000, 41.5800,  1.0000,  0.0000],\n",
      "        [51.0000,  1.0000, 33.9150,  1.0000,  0.0000],\n",
      "        [23.0000,  1.0000, 44.0055,  0.0000,  0.0000],\n",
      "        [33.0000,  1.0000, 23.8403,  0.0000,  0.0000],\n",
      "        [23.0000,  0.0000, 36.7080,  3.0000,  0.0000],\n",
      "        [64.0000,  0.0000, 35.4900,  1.0000,  1.0000],\n",
      "        [62.0000,  1.0000, 28.9275,  1.0000,  0.0000],\n",
      "        [24.0000,  1.0000, 37.6530,  0.0000,  0.0000],\n",
      "        [54.0000,  0.0000, 37.6058,  3.0000,  0.0000],\n",
      "        [33.0000,  1.0000, 44.5200,  5.0000,  0.0000],\n",
      "        [18.0000,  0.0000, 32.9175,  0.0000,  0.0000],\n",
      "        [42.0000,  0.0000, 26.2342,  2.0000,  0.0000],\n",
      "        [18.0000,  0.0000, 40.5983,  2.0000,  0.0000],\n",
      "        [38.0000,  0.0000, 29.2267,  2.0000,  0.0000],\n",
      "        [47.0000,  1.0000, 31.2900,  3.0000,  1.0000],\n",
      "        [36.0000,  1.0000, 31.1850,  0.0000,  0.0000],\n",
      "        [32.0000,  1.0000, 30.3765,  1.0000,  1.0000],\n",
      "        [52.0000,  0.0000, 46.9350,  3.0000,  0.0000],\n",
      "        [24.0000,  0.0000, 35.6895,  0.0000,  0.0000],\n",
      "        [52.0000,  1.0000, 43.8900,  2.0000,  1.0000],\n",
      "        [51.0000,  0.0000, 22.6380,  1.0000,  0.0000],\n",
      "        [32.0000,  0.0000, 43.1550,  0.0000,  0.0000],\n",
      "        [58.0000,  0.0000, 28.5285,  0.0000,  0.0000],\n",
      "        [45.0000,  1.0000, 24.0397,  2.0000,  1.0000],\n",
      "        [20.0000,  0.0000, 38.8500,  5.0000,  0.0000],\n",
      "        [19.0000,  1.0000, 18.3540,  0.0000,  0.0000],\n",
      "        [49.0000,  0.0000, 23.7405,  1.0000,  0.0000],\n",
      "        [38.0000,  0.0000, 28.9800,  0.0000,  0.0000],\n",
      "        [48.0000,  1.0000, 29.4000,  1.0000,  1.0000],\n",
      "        [61.0000,  0.0000, 34.9965,  4.0000,  0.0000],\n",
      "        [47.0000,  0.0000, 27.4312,  1.0000,  1.0000],\n",
      "        [40.0000,  1.0000, 26.2185,  2.0000,  0.0000],\n",
      "        [44.0000,  1.0000, 26.6332,  1.0000,  0.0000],\n",
      "        [19.0000,  1.0000, 20.7900,  0.0000,  0.0000],\n",
      "        [27.0000,  0.0000, 22.5435,  0.0000,  0.0000],\n",
      "        [48.0000,  0.0000, 33.9150,  2.0000,  0.0000]])\n",
      "targets: tensor([[ 8708.2090],\n",
      "        [ 5272.0229],\n",
      "        [ 2310.5283],\n",
      "        [ 7506.7212],\n",
      "        [12801.4502],\n",
      "        [12056.5127],\n",
      "        [ 2223.1111],\n",
      "        [26601.2090],\n",
      "        [ 5404.6118],\n",
      "        [57992.9180],\n",
      "        [16864.5762],\n",
      "        [ 2404.1895],\n",
      "        [15119.3018],\n",
      "        [ 8066.1538],\n",
      "        [ 1962.8481],\n",
      "        [ 9700.6436],\n",
      "        [ 4105.9614],\n",
      "        [ 8645.2842],\n",
      "        [30624.4824],\n",
      "        [ 5323.6743],\n",
      "        [23860.8301],\n",
      "        [13808.1387],\n",
      "        [ 2992.7344],\n",
      "        [57196.5234],\n",
      "        [11924.7090],\n",
      "        [ 4827.7075],\n",
      "        [14789.7070],\n",
      "        [25529.2500],\n",
      "        [ 5845.0625],\n",
      "        [ 1961.8217],\n",
      "        [11576.0586],\n",
      "        [ 6514.0786],\n",
      "        [28517.6094],\n",
      "        [44262.1406],\n",
      "        [28315.5801],\n",
      "        [ 7978.1450],\n",
      "        [ 9096.8105],\n",
      "        [ 1502.2937],\n",
      "        [ 4057.6990],\n",
      "        [12152.3311]])\n"
     ]
    }
   ],
   "source": [
    "for xb, yb in train_loader:\n",
    "    print(\"inputs:\", xb)\n",
    "    print(\"targets:\", yb)\n",
    "    break"
   ]
  },
  {
   "cell_type": "markdown",
   "metadata": {
    "id": "v5hfzcUWzlaj"
   },
   "source": [
    "Let's save our work by committing to Jovian."
   ]
  },
  {
   "cell_type": "code",
   "execution_count": 369,
   "metadata": {
    "colab": {
     "base_uri": "https://localhost:8080/",
     "height": 102
    },
    "executionInfo": {
     "elapsed": 2938,
     "status": "ok",
     "timestamp": 1611665154631,
     "user": {
      "displayName": "RIYA LAMBA",
      "photoUrl": "https://lh6.googleusercontent.com/-0cgP7UWnuGU/AAAAAAAAAAI/AAAAAAAAAHI/bB7sL8n8DaQ/s64/photo.jpg",
      "userId": "02188969418639816712"
     },
     "user_tz": -330
    },
    "id": "JYXTQ0NXzlaj",
    "outputId": "e8ae01f9-7dc5-4b7a-d8a7-f310783af86e"
   },
   "outputs": [
    {
     "name": "stdout",
     "output_type": "stream",
     "text": [
      "[jovian] Detected Colab notebook...\u001b[0m\n",
      "[jovian] Uploading colab notebook to Jovian...\u001b[0m\n",
      "[jovian] Attaching records (metrics, hyperparameters, dataset etc.)\u001b[0m\n",
      "[jovian] Committed successfully! https://jovian.ai/2019mcb1229/assignment2\u001b[0m\n"
     ]
    },
    {
     "data": {
      "application/vnd.google.colaboratory.intrinsic+json": {
       "type": "string"
      },
      "text/plain": [
       "'https://jovian.ai/2019mcb1229/assignment2'"
      ]
     },
     "execution_count": 369,
     "metadata": {
      "tags": []
     },
     "output_type": "execute_result"
    }
   ],
   "source": [
    "jovian.commit(project=project_name, environment=None)"
   ]
  },
  {
   "cell_type": "markdown",
   "metadata": {
    "id": "T-Ed4WDSzlaj"
   },
   "source": [
    "## Step 3: Create a Linear Regression Model\n",
    "\n",
    "Our model itself is a fairly straightforward linear regression (we'll build more complex models in the next assignment). \n"
   ]
  },
  {
   "cell_type": "code",
   "execution_count": 370,
   "metadata": {
    "executionInfo": {
     "elapsed": 1043,
     "status": "ok",
     "timestamp": 1611665180902,
     "user": {
      "displayName": "RIYA LAMBA",
      "photoUrl": "https://lh6.googleusercontent.com/-0cgP7UWnuGU/AAAAAAAAAAI/AAAAAAAAAHI/bB7sL8n8DaQ/s64/photo.jpg",
      "userId": "02188969418639816712"
     },
     "user_tz": -330
    },
    "id": "zMvYE3w8zlak"
   },
   "outputs": [],
   "source": [
    "input_size = len(input_cols)\n",
    "output_size = len(output_cols)"
   ]
  },
  {
   "cell_type": "markdown",
   "metadata": {
    "id": "gDLYVat4zlak"
   },
   "source": [
    "**Q: Complete the class definition below by filling out the constructor (`__init__`), `forward`, `training_step` and `validation_step` methods.**\n",
    "\n",
    "Hint: Think carefully about picking a good loss fuction (it's not cross entropy). Maybe try 2-3 of them and see which one works best. See https://pytorch.org/docs/stable/nn.functional.html#loss-functions"
   ]
  },
  {
   "cell_type": "code",
   "execution_count": 371,
   "metadata": {
    "executionInfo": {
     "elapsed": 1089,
     "status": "ok",
     "timestamp": 1611665183694,
     "user": {
      "displayName": "RIYA LAMBA",
      "photoUrl": "https://lh6.googleusercontent.com/-0cgP7UWnuGU/AAAAAAAAAAI/AAAAAAAAAHI/bB7sL8n8DaQ/s64/photo.jpg",
      "userId": "02188969418639816712"
     },
     "user_tz": -330
    },
    "id": "d7YxrZgwzlal"
   },
   "outputs": [],
   "source": [
    "class InsuranceModel(nn.Module):\n",
    "    def __init__(self):\n",
    "        super().__init__()\n",
    "        self.linear = nn.Linear(input_size, output_size)                  # fill this (hint: use input_size & output_size defined above)\n",
    "        \n",
    "    def forward(self, xb):\n",
    "        out = self.linear(xb.reshape(-1,5))                          # fill this\n",
    "        return out\n",
    "    \n",
    "    def training_step(self, batch):\n",
    "        inputs, targets = batch \n",
    "        # Generate predictions\n",
    "        out = self(inputs)          \n",
    "        # Calcuate loss\n",
    "        loss = F.l1_loss(out, targets, size_average=None, reduce=None, reduction='mean')                        # fill this\n",
    "        return loss\n",
    "    \n",
    "    def validation_step(self, batch):\n",
    "        inputs, targets = batch\n",
    "        # Generate predictions\n",
    "        out = self(inputs)\n",
    "        # Calculate loss\n",
    "        loss =  F.l1_loss(out, targets, size_average=None, reduce=None, reduction='mean')                      # fill this    \n",
    "        return {'val_loss': loss.detach()}\n",
    "        \n",
    "    def validation_epoch_end(self, outputs):\n",
    "        batch_losses = [x['val_loss'] for x in outputs]\n",
    "        epoch_loss = torch.stack(batch_losses).mean()   # Combine losses\n",
    "        return {'val_loss': epoch_loss.item()}\n",
    "    \n",
    "    def epoch_end(self, epoch, result, num_epochs):\n",
    "        # Print result every 20th epoch\n",
    "        ##if (epoch+1) % 20 == 0 or epoch == num_epochs-1:\n",
    "        print(\"Epoch [{}], val_loss: {:.4f}\".format(epoch+1, result['val_loss']))"
   ]
  },
  {
   "cell_type": "markdown",
   "metadata": {
    "id": "sx1z3f7mzlam"
   },
   "source": [
    "Let us create a model using the `InsuranceModel` class. You may need to come back later and re-run the next cell to reinitialize the model, in case the loss becomes `nan` or `infinity`."
   ]
  },
  {
   "cell_type": "code",
   "execution_count": 372,
   "metadata": {
    "executionInfo": {
     "elapsed": 1055,
     "status": "ok",
     "timestamp": 1611665188271,
     "user": {
      "displayName": "RIYA LAMBA",
      "photoUrl": "https://lh6.googleusercontent.com/-0cgP7UWnuGU/AAAAAAAAAAI/AAAAAAAAAHI/bB7sL8n8DaQ/s64/photo.jpg",
      "userId": "02188969418639816712"
     },
     "user_tz": -330
    },
    "id": "l7B8GTh_zlan"
   },
   "outputs": [],
   "source": [
    "model = InsuranceModel()"
   ]
  },
  {
   "cell_type": "markdown",
   "metadata": {
    "id": "dfm5tXE3zlan"
   },
   "source": [
    "Let's check out the weights and biases of the model using `model.parameters`."
   ]
  },
  {
   "cell_type": "code",
   "execution_count": 373,
   "metadata": {
    "colab": {
     "base_uri": "https://localhost:8080/"
    },
    "executionInfo": {
     "elapsed": 1072,
     "status": "ok",
     "timestamp": 1611665191999,
     "user": {
      "displayName": "RIYA LAMBA",
      "photoUrl": "https://lh6.googleusercontent.com/-0cgP7UWnuGU/AAAAAAAAAAI/AAAAAAAAAHI/bB7sL8n8DaQ/s64/photo.jpg",
      "userId": "02188969418639816712"
     },
     "user_tz": -330
    },
    "id": "0PMqwEeAzlan",
    "outputId": "28714a71-8345-425e-bee2-af1d5f834b4f"
   },
   "outputs": [
    {
     "data": {
      "text/plain": [
       "[Parameter containing:\n",
       " tensor([[-0.1969, -0.3467,  0.4245,  0.3641,  0.1151]], requires_grad=True),\n",
       " Parameter containing:\n",
       " tensor([-0.3535], requires_grad=True)]"
      ]
     },
     "execution_count": 373,
     "metadata": {
      "tags": []
     },
     "output_type": "execute_result"
    }
   ],
   "source": [
    "list(model.parameters())"
   ]
  },
  {
   "cell_type": "markdown",
   "metadata": {
    "id": "7uy5osKUzlao"
   },
   "source": [
    "One final commit before we train the model."
   ]
  },
  {
   "cell_type": "code",
   "execution_count": 374,
   "metadata": {
    "colab": {
     "base_uri": "https://localhost:8080/",
     "height": 102
    },
    "executionInfo": {
     "elapsed": 3447,
     "status": "ok",
     "timestamp": 1611665197842,
     "user": {
      "displayName": "RIYA LAMBA",
      "photoUrl": "https://lh6.googleusercontent.com/-0cgP7UWnuGU/AAAAAAAAAAI/AAAAAAAAAHI/bB7sL8n8DaQ/s64/photo.jpg",
      "userId": "02188969418639816712"
     },
     "user_tz": -330
    },
    "id": "F4PSe-HPzlao",
    "outputId": "ceb27b1e-b5b9-4ebb-dd08-6ad3a5d6f783"
   },
   "outputs": [
    {
     "name": "stdout",
     "output_type": "stream",
     "text": [
      "[jovian] Detected Colab notebook...\u001b[0m\n",
      "[jovian] Uploading colab notebook to Jovian...\u001b[0m\n",
      "[jovian] Attaching records (metrics, hyperparameters, dataset etc.)\u001b[0m\n",
      "[jovian] Committed successfully! https://jovian.ai/2019mcb1229/assignment2\u001b[0m\n"
     ]
    },
    {
     "data": {
      "application/vnd.google.colaboratory.intrinsic+json": {
       "type": "string"
      },
      "text/plain": [
       "'https://jovian.ai/2019mcb1229/assignment2'"
      ]
     },
     "execution_count": 374,
     "metadata": {
      "tags": []
     },
     "output_type": "execute_result"
    }
   ],
   "source": [
    "jovian.commit(project=project_name, environment=None)"
   ]
  },
  {
   "cell_type": "markdown",
   "metadata": {
    "id": "Xl9sfBxszlap"
   },
   "source": [
    "## Step 4: Train the model to fit the data\n",
    "\n",
    "To train our model, we'll use the same `fit` function explained in the lecture. That's the benefit of defining a generic training loop - you can use it for any problem."
   ]
  },
  {
   "cell_type": "code",
   "execution_count": 375,
   "metadata": {
    "executionInfo": {
     "elapsed": 1085,
     "status": "ok",
     "timestamp": 1611665202917,
     "user": {
      "displayName": "RIYA LAMBA",
      "photoUrl": "https://lh6.googleusercontent.com/-0cgP7UWnuGU/AAAAAAAAAAI/AAAAAAAAAHI/bB7sL8n8DaQ/s64/photo.jpg",
      "userId": "02188969418639816712"
     },
     "user_tz": -330
    },
    "id": "gXdSv87Xzlap"
   },
   "outputs": [],
   "source": [
    "def evaluate(model, val_loader):\n",
    "    outputs = [model.validation_step(batch) for batch in val_loader]\n",
    "    return model.validation_epoch_end(outputs)\n",
    "\n",
    "def fit(epochs, lr, model, train_loader, val_loader, opt_func=torch.optim.SGD):\n",
    "    history = []\n",
    "    optimizer = opt_func(model.parameters(), lr)\n",
    "    for epoch in range(epochs):\n",
    "        # Training Phase \n",
    "        for batch in train_loader:\n",
    "            loss = model.training_step(batch)\n",
    "            loss.backward()\n",
    "            optimizer.step()\n",
    "            optimizer.zero_grad()\n",
    "        # Validation phase\n",
    "        result = evaluate(model, val_loader)\n",
    "        model.epoch_end(epoch, result, epochs)\n",
    "        history.append(result)\n",
    "    return history"
   ]
  },
  {
   "cell_type": "markdown",
   "metadata": {
    "id": "baOuKARezlaq"
   },
   "source": [
    "**Q: Use the `evaluate` function to calculate the loss on the validation set before training.**"
   ]
  },
  {
   "cell_type": "code",
   "execution_count": 376,
   "metadata": {
    "colab": {
     "base_uri": "https://localhost:8080/"
    },
    "executionInfo": {
     "elapsed": 1424,
     "status": "ok",
     "timestamp": 1611665206208,
     "user": {
      "displayName": "RIYA LAMBA",
      "photoUrl": "https://lh6.googleusercontent.com/-0cgP7UWnuGU/AAAAAAAAAAI/AAAAAAAAAHI/bB7sL8n8DaQ/s64/photo.jpg",
      "userId": "02188969418639816712"
     },
     "user_tz": -330
    },
    "id": "1WUd6g0rzlaq",
    "outputId": "2d008758-42d0-4215-ac49-fa3610c260ae"
   },
   "outputs": [
    {
     "name": "stdout",
     "output_type": "stream",
     "text": [
      "{'val_loss': 16219.296875}\n"
     ]
    }
   ],
   "source": [
    "result = evaluate(model, val_loader) # Use the the evaluate function\n",
    "print(result)"
   ]
  },
  {
   "cell_type": "markdown",
   "metadata": {
    "id": "9lr3vVdHzlaq"
   },
   "source": [
    "\n",
    "We are now ready to train the model. You may need to run the training loop many times, for different number of epochs and with different learning rates, to get a good result. Also, if your loss becomes too large (or `nan`), you may have to re-initialize the model by running the cell `model = InsuranceModel()`. Experiment with this for a while, and try to get to as low a loss as possible."
   ]
  },
  {
   "cell_type": "markdown",
   "metadata": {
    "id": "Eom0G7UTzlar"
   },
   "source": [
    "**Q: Train the model 4-5 times with different learning rates & for different number of epochs.**\n",
    "\n",
    "Hint: Vary learning rates by orders of 10 (e.g. `1e-2`, `1e-3`, `1e-4`, `1e-5`, `1e-6`) to figure out what works."
   ]
  },
  {
   "cell_type": "code",
   "execution_count": 377,
   "metadata": {
    "colab": {
     "base_uri": "https://localhost:8080/"
    },
    "executionInfo": {
     "elapsed": 1529,
     "status": "ok",
     "timestamp": 1611665209838,
     "user": {
      "displayName": "RIYA LAMBA",
      "photoUrl": "https://lh6.googleusercontent.com/-0cgP7UWnuGU/AAAAAAAAAAI/AAAAAAAAAHI/bB7sL8n8DaQ/s64/photo.jpg",
      "userId": "02188969418639816712"
     },
     "user_tz": -330
    },
    "id": "dkTQXLVCzlar",
    "outputId": "9a11c63f-88d9-411d-aa31-b15144791fee"
   },
   "outputs": [
    {
     "name": "stdout",
     "output_type": "stream",
     "text": [
      "Epoch [1], val_loss: 15490.5312\n",
      "Epoch [2], val_loss: 14749.7285\n",
      "Epoch [3], val_loss: 14035.5137\n",
      "Epoch [4], val_loss: 13335.5967\n",
      "Epoch [5], val_loss: 12682.4346\n",
      "Epoch [6], val_loss: 12102.4346\n",
      "Epoch [7], val_loss: 11575.5332\n",
      "Epoch [8], val_loss: 11134.9082\n",
      "Epoch [9], val_loss: 10715.2051\n",
      "Epoch [10], val_loss: 10350.1240\n",
      "Epoch [11], val_loss: 10018.2656\n",
      "Epoch [12], val_loss: 9727.2207\n",
      "Epoch [13], val_loss: 9495.5605\n",
      "Epoch [14], val_loss: 9301.7891\n",
      "Epoch [15], val_loss: 9156.6445\n",
      "Epoch [16], val_loss: 9034.9629\n",
      "Epoch [17], val_loss: 8906.3311\n",
      "Epoch [18], val_loss: 8830.5449\n",
      "Epoch [19], val_loss: 8764.3340\n",
      "Epoch [20], val_loss: 8688.8379\n"
     ]
    }
   ],
   "source": [
    "epochs = 20\n",
    "lr = 0.01\n",
    "history1 = fit(epochs, lr, model, train_loader, val_loader)"
   ]
  },
  {
   "cell_type": "code",
   "execution_count": 378,
   "metadata": {
    "colab": {
     "base_uri": "https://localhost:8080/"
    },
    "executionInfo": {
     "elapsed": 1064,
     "status": "ok",
     "timestamp": 1611665212116,
     "user": {
      "displayName": "RIYA LAMBA",
      "photoUrl": "https://lh6.googleusercontent.com/-0cgP7UWnuGU/AAAAAAAAAAI/AAAAAAAAAHI/bB7sL8n8DaQ/s64/photo.jpg",
      "userId": "02188969418639816712"
     },
     "user_tz": -330
    },
    "id": "L8VCjDlMzlar",
    "outputId": "752cde1f-1653-41d3-8661-c3461827e19d"
   },
   "outputs": [
    {
     "name": "stdout",
     "output_type": "stream",
     "text": [
      "Epoch [1], val_loss: 8498.4746\n",
      "Epoch [2], val_loss: 8392.8965\n",
      "Epoch [3], val_loss: 8366.2129\n",
      "Epoch [4], val_loss: 8312.4395\n",
      "Epoch [5], val_loss: 8229.6006\n",
      "Epoch [6], val_loss: 8235.8145\n",
      "Epoch [7], val_loss: 8179.1885\n",
      "Epoch [8], val_loss: 8185.4482\n",
      "Epoch [9], val_loss: 8175.5493\n",
      "Epoch [10], val_loss: 8107.7109\n",
      "Epoch [11], val_loss: 8103.3188\n",
      "Epoch [12], val_loss: 8090.7720\n",
      "Epoch [13], val_loss: 8023.0547\n",
      "Epoch [14], val_loss: 8004.0498\n",
      "Epoch [15], val_loss: 7992.4946\n"
     ]
    }
   ],
   "source": [
    "epochs = 15\n",
    "lr = 0.1\n",
    "history2 = fit(epochs, lr, model, train_loader, val_loader)"
   ]
  },
  {
   "cell_type": "code",
   "execution_count": 379,
   "metadata": {
    "colab": {
     "base_uri": "https://localhost:8080/"
    },
    "executionInfo": {
     "elapsed": 1429,
     "status": "ok",
     "timestamp": 1611665215784,
     "user": {
      "displayName": "RIYA LAMBA",
      "photoUrl": "https://lh6.googleusercontent.com/-0cgP7UWnuGU/AAAAAAAAAAI/AAAAAAAAAHI/bB7sL8n8DaQ/s64/photo.jpg",
      "userId": "02188969418639816712"
     },
     "user_tz": -330
    },
    "id": "7un5cdq9zlas",
    "outputId": "27470476-44ac-4838-b78e-6197276abce3"
   },
   "outputs": [
    {
     "name": "stdout",
     "output_type": "stream",
     "text": [
      "Epoch [1], val_loss: 7990.5859\n",
      "Epoch [2], val_loss: 8032.4023\n",
      "Epoch [3], val_loss: 7910.8452\n",
      "Epoch [4], val_loss: 8055.4844\n",
      "Epoch [5], val_loss: 7877.5107\n",
      "Epoch [6], val_loss: 7870.4937\n",
      "Epoch [7], val_loss: 7856.5483\n",
      "Epoch [8], val_loss: 7851.4062\n",
      "Epoch [9], val_loss: 8015.1577\n",
      "Epoch [10], val_loss: 7926.9399\n",
      "Epoch [11], val_loss: 7961.3657\n",
      "Epoch [12], val_loss: 7983.5674\n",
      "Epoch [13], val_loss: 7830.3682\n",
      "Epoch [14], val_loss: 7890.8633\n",
      "Epoch [15], val_loss: 7868.8359\n",
      "Epoch [16], val_loss: 7823.8672\n",
      "Epoch [17], val_loss: 7839.2749\n",
      "Epoch [18], val_loss: 7928.6904\n",
      "Epoch [19], val_loss: 7827.5625\n",
      "Epoch [20], val_loss: 7819.6494\n"
     ]
    }
   ],
   "source": [
    "epochs = 20\n",
    "lr = 0.15\n",
    "history3 = fit(epochs, lr, model, train_loader, val_loader)"
   ]
  },
  {
   "cell_type": "code",
   "execution_count": 380,
   "metadata": {
    "colab": {
     "base_uri": "https://localhost:8080/"
    },
    "executionInfo": {
     "elapsed": 1116,
     "status": "ok",
     "timestamp": 1611665220227,
     "user": {
      "displayName": "RIYA LAMBA",
      "photoUrl": "https://lh6.googleusercontent.com/-0cgP7UWnuGU/AAAAAAAAAAI/AAAAAAAAAHI/bB7sL8n8DaQ/s64/photo.jpg",
      "userId": "02188969418639816712"
     },
     "user_tz": -330
    },
    "id": "pQ4jaybQzlas",
    "outputId": "a2226370-b6d4-4679-8515-4f2c7cf5edde"
   },
   "outputs": [
    {
     "name": "stdout",
     "output_type": "stream",
     "text": [
      "Epoch [1], val_loss: 7820.0625\n",
      "Epoch [2], val_loss: 7820.2437\n",
      "Epoch [3], val_loss: 7820.3701\n",
      "Epoch [4], val_loss: 7820.5220\n",
      "Epoch [5], val_loss: 7820.7314\n",
      "Epoch [6], val_loss: 7820.9907\n",
      "Epoch [7], val_loss: 7821.1221\n",
      "Epoch [8], val_loss: 7821.3721\n",
      "Epoch [9], val_loss: 7821.9907\n",
      "Epoch [10], val_loss: 7822.1250\n",
      "Epoch [11], val_loss: 7822.7163\n",
      "Epoch [12], val_loss: 7822.8657\n",
      "Epoch [13], val_loss: 7823.5093\n",
      "Epoch [14], val_loss: 7823.6455\n",
      "Epoch [15], val_loss: 7824.2490\n"
     ]
    }
   ],
   "source": [
    "epochs = 15\n",
    "lr = 0.001\n",
    "history4 = fit(epochs, lr, model, train_loader, val_loader)"
   ]
  },
  {
   "cell_type": "code",
   "execution_count": 381,
   "metadata": {
    "colab": {
     "base_uri": "https://localhost:8080/"
    },
    "executionInfo": {
     "elapsed": 1710,
     "status": "ok",
     "timestamp": 1611665228866,
     "user": {
      "displayName": "RIYA LAMBA",
      "photoUrl": "https://lh6.googleusercontent.com/-0cgP7UWnuGU/AAAAAAAAAAI/AAAAAAAAAHI/bB7sL8n8DaQ/s64/photo.jpg",
      "userId": "02188969418639816712"
     },
     "user_tz": -330
    },
    "id": "xZnht4C8zlat",
    "outputId": "7d76b9ab-55d3-4f4b-cb69-cb8f9745f9eb"
   },
   "outputs": [
    {
     "name": "stdout",
     "output_type": "stream",
     "text": [
      "Epoch [1], val_loss: 7825.2671\n",
      "Epoch [2], val_loss: 7826.7437\n",
      "Epoch [3], val_loss: 7827.5405\n",
      "Epoch [4], val_loss: 7829.6875\n",
      "Epoch [5], val_loss: 7831.8101\n",
      "Epoch [6], val_loss: 7838.1460\n",
      "Epoch [7], val_loss: 7843.3374\n",
      "Epoch [8], val_loss: 7842.1719\n",
      "Epoch [9], val_loss: 7841.4858\n",
      "Epoch [10], val_loss: 7848.0571\n",
      "Epoch [11], val_loss: 7845.1670\n",
      "Epoch [12], val_loss: 7842.3413\n",
      "Epoch [13], val_loss: 7839.6265\n",
      "Epoch [14], val_loss: 7838.2148\n",
      "Epoch [15], val_loss: 7843.6016\n",
      "Epoch [16], val_loss: 7851.7344\n",
      "Epoch [17], val_loss: 7846.9990\n",
      "Epoch [18], val_loss: 7852.6758\n",
      "Epoch [19], val_loss: 7857.8296\n",
      "Epoch [20], val_loss: 7862.0938\n",
      "Epoch [21], val_loss: 7866.8311\n",
      "Epoch [22], val_loss: 7859.7178\n",
      "Epoch [23], val_loss: 7863.9893\n",
      "Epoch [24], val_loss: 7856.5444\n",
      "Epoch [25], val_loss: 7862.1694\n"
     ]
    }
   ],
   "source": [
    "epochs = 25\n",
    "lr = 0.01\n",
    "history5 = fit(epochs, lr, model, train_loader, val_loader)"
   ]
  },
  {
   "cell_type": "markdown",
   "metadata": {
    "id": "8aViwxZ3zlat"
   },
   "source": [
    "**Q: What is the final validation loss of your model?**"
   ]
  },
  {
   "cell_type": "code",
   "execution_count": 382,
   "metadata": {
    "executionInfo": {
     "elapsed": 1056,
     "status": "ok",
     "timestamp": 1611665233006,
     "user": {
      "displayName": "RIYA LAMBA",
      "photoUrl": "https://lh6.googleusercontent.com/-0cgP7UWnuGU/AAAAAAAAAAI/AAAAAAAAAHI/bB7sL8n8DaQ/s64/photo.jpg",
      "userId": "02188969418639816712"
     },
     "user_tz": -330
    },
    "id": "5PFrp20yzlat"
   },
   "outputs": [],
   "source": [
    "val_loss = history1 + history2 + history3 + history4 + history5 "
   ]
  },
  {
   "cell_type": "markdown",
   "metadata": {
    "id": "9rYmGT8vzlat"
   },
   "source": [
    "Let's log the final validation loss to Jovian and commit the notebook"
   ]
  },
  {
   "cell_type": "code",
   "execution_count": 383,
   "metadata": {
    "colab": {
     "base_uri": "https://localhost:8080/"
    },
    "executionInfo": {
     "elapsed": 1077,
     "status": "ok",
     "timestamp": 1611665236035,
     "user": {
      "displayName": "RIYA LAMBA",
      "photoUrl": "https://lh6.googleusercontent.com/-0cgP7UWnuGU/AAAAAAAAAAI/AAAAAAAAAHI/bB7sL8n8DaQ/s64/photo.jpg",
      "userId": "02188969418639816712"
     },
     "user_tz": -330
    },
    "id": "HkFIBbagzlau",
    "outputId": "7767ac0b-afd5-45d5-9f7a-3cc0a6b6d7f0"
   },
   "outputs": [
    {
     "name": "stdout",
     "output_type": "stream",
     "text": [
      "[jovian] Metrics logged.\u001b[0m\n"
     ]
    }
   ],
   "source": [
    "jovian.log_metrics(val_loss=val_loss)"
   ]
  },
  {
   "cell_type": "code",
   "execution_count": 384,
   "metadata": {
    "colab": {
     "base_uri": "https://localhost:8080/",
     "height": 102
    },
    "executionInfo": {
     "elapsed": 3296,
     "status": "ok",
     "timestamp": 1611665241417,
     "user": {
      "displayName": "RIYA LAMBA",
      "photoUrl": "https://lh6.googleusercontent.com/-0cgP7UWnuGU/AAAAAAAAAAI/AAAAAAAAAHI/bB7sL8n8DaQ/s64/photo.jpg",
      "userId": "02188969418639816712"
     },
     "user_tz": -330
    },
    "id": "Et5zoOgIzlau",
    "outputId": "644d4a10-20dd-4467-93cc-c994c0a833e1"
   },
   "outputs": [
    {
     "name": "stdout",
     "output_type": "stream",
     "text": [
      "[jovian] Detected Colab notebook...\u001b[0m\n",
      "[jovian] Uploading colab notebook to Jovian...\u001b[0m\n",
      "[jovian] Attaching records (metrics, hyperparameters, dataset etc.)\u001b[0m\n",
      "[jovian] Committed successfully! https://jovian.ai/2019mcb1229/assignment2\u001b[0m\n"
     ]
    },
    {
     "data": {
      "application/vnd.google.colaboratory.intrinsic+json": {
       "type": "string"
      },
      "text/plain": [
       "'https://jovian.ai/2019mcb1229/assignment2'"
      ]
     },
     "execution_count": 384,
     "metadata": {
      "tags": []
     },
     "output_type": "execute_result"
    }
   ],
   "source": [
    "jovian.commit(project=project_name, environment=None)"
   ]
  },
  {
   "cell_type": "markdown",
   "metadata": {
    "id": "wmMrVXLezlau"
   },
   "source": [
    "Now scroll back up, re-initialize the model, and try different set of values for batch size, number of epochs, learning rate etc. Commit each experiment and use the \"Compare\" and \"View Diff\" options on Jovian to compare the different results."
   ]
  },
  {
   "cell_type": "markdown",
   "metadata": {
    "id": "hM3Sy-Z8zlau"
   },
   "source": [
    "## Step 5: Make predictions using the trained model\n",
    "\n",
    "**Q: Complete the following function definition to make predictions on a single input**"
   ]
  },
  {
   "cell_type": "code",
   "execution_count": 385,
   "metadata": {
    "executionInfo": {
     "elapsed": 1444,
     "status": "ok",
     "timestamp": 1611665242869,
     "user": {
      "displayName": "RIYA LAMBA",
      "photoUrl": "https://lh6.googleusercontent.com/-0cgP7UWnuGU/AAAAAAAAAAI/AAAAAAAAAHI/bB7sL8n8DaQ/s64/photo.jpg",
      "userId": "02188969418639816712"
     },
     "user_tz": -330
    },
    "id": "-79k8FWwzlav"
   },
   "outputs": [],
   "source": [
    "def predict_single(input, target, model):\n",
    "    inputs = input.unsqueeze(0)\n",
    "    predictions = torch.max(model(inputs), dim=1)               # fill this\n",
    "    prediction = predictions[0].detach()\n",
    "    print(\"Input:\", input)\n",
    "    print(\"Target:\", target)\n",
    "    print(\"Prediction:\", prediction)"
   ]
  },
  {
   "cell_type": "code",
   "execution_count": 386,
   "metadata": {
    "colab": {
     "base_uri": "https://localhost:8080/"
    },
    "executionInfo": {
     "elapsed": 876,
     "status": "ok",
     "timestamp": 1611665244347,
     "user": {
      "displayName": "RIYA LAMBA",
      "photoUrl": "https://lh6.googleusercontent.com/-0cgP7UWnuGU/AAAAAAAAAAI/AAAAAAAAAHI/bB7sL8n8DaQ/s64/photo.jpg",
      "userId": "02188969418639816712"
     },
     "user_tz": -330
    },
    "id": "cgpotcDVzlav",
    "outputId": "20ca4f24-5445-4c25-8802-232c352c1b23"
   },
   "outputs": [
    {
     "name": "stdout",
     "output_type": "stream",
     "text": [
      "Input: tensor([24.0000,  0.0000, 27.9300,  0.0000,  0.0000])\n",
      "Target: tensor([3685.7351])\n",
      "Prediction: tensor([4695.5278])\n"
     ]
    }
   ],
   "source": [
    "input, target = val_ds[0]\n",
    "predict_single(input, target, model)"
   ]
  },
  {
   "cell_type": "code",
   "execution_count": 309,
   "metadata": {
    "colab": {
     "base_uri": "https://localhost:8080/"
    },
    "executionInfo": {
     "elapsed": 1059,
     "status": "ok",
     "timestamp": 1611664097735,
     "user": {
      "displayName": "RIYA LAMBA",
      "photoUrl": "https://lh6.googleusercontent.com/-0cgP7UWnuGU/AAAAAAAAAAI/AAAAAAAAAHI/bB7sL8n8DaQ/s64/photo.jpg",
      "userId": "02188969418639816712"
     },
     "user_tz": -330
    },
    "id": "KLDiX5FGzlaw",
    "outputId": "7df5675a-1d64-420c-b32c-191b560225d5"
   },
   "outputs": [
    {
     "name": "stdout",
     "output_type": "stream",
     "text": [
      "Input: tensor([51.0000,  0.0000, 42.6930,  0.0000,  0.0000])\n",
      "Target: tensor([11949.5732])\n",
      "Prediction: tensor([11682.0957])\n"
     ]
    }
   ],
   "source": [
    "input, target = val_ds[10]\n",
    "predict_single(input, target, model)"
   ]
  },
  {
   "cell_type": "code",
   "execution_count": 310,
   "metadata": {
    "colab": {
     "base_uri": "https://localhost:8080/"
    },
    "executionInfo": {
     "elapsed": 1041,
     "status": "ok",
     "timestamp": 1611664102903,
     "user": {
      "displayName": "RIYA LAMBA",
      "photoUrl": "https://lh6.googleusercontent.com/-0cgP7UWnuGU/AAAAAAAAAAI/AAAAAAAAAHI/bB7sL8n8DaQ/s64/photo.jpg",
      "userId": "02188969418639816712"
     },
     "user_tz": -330
    },
    "id": "YhCSauv3zlaw",
    "outputId": "aea4e4a1-e866-45c0-f03b-a01a117f9b5e"
   },
   "outputs": [
    {
     "name": "stdout",
     "output_type": "stream",
     "text": [
      "Input: tensor([48.0000,  1.0000, 32.3190,  3.0000,  0.0000])\n",
      "Target: tensor([12270.7744])\n",
      "Prediction: tensor([11839.6602])\n"
     ]
    }
   ],
   "source": [
    "input, target = val_ds[23]\n",
    "predict_single(input, target, model)"
   ]
  },
  {
   "cell_type": "markdown",
   "metadata": {
    "id": "mu4I8BwMzlaw"
   },
   "source": [
    "Are you happy with your model's predictions? Try to improve them further."
   ]
  },
  {
   "cell_type": "markdown",
   "metadata": {
    "id": "3taYP4CGzlax"
   },
   "source": [
    "## (Optional) Step 6: Try another dataset & blog about it\n",
    "\n",
    "While this last step is optional for the submission of your assignment, we highly recommend that you do it. Try to replicate this notebook for a different linear regression or logistic regression problem. This will help solidify your understanding, and give you a chance to differentiate the generic patterns in machine learning from problem-specific details.You can use one of these starer notebooks (just change the dataset):\n",
    "\n",
    "- Linear regression (minimal): https://jovian.ai/aakashns/housing-linear-minimal\n",
    "- Logistic regression (minimal): https://jovian.ai/aakashns/mnist-logistic-minimal\n",
    "\n",
    "Here are some sources to find good datasets:\n",
    "\n",
    "- https://lionbridge.ai/datasets/10-open-datasets-for-linear-regression/\n",
    "- https://www.kaggle.com/rtatman/datasets-for-regression-analysis\n",
    "- https://archive.ics.uci.edu/ml/datasets.php?format=&task=reg&att=&area=&numAtt=&numIns=&type=&sort=nameUp&view=table\n",
    "- https://people.sc.fsu.edu/~jburkardt/datasets/regression/regression.html\n",
    "- https://archive.ics.uci.edu/ml/datasets/wine+quality\n",
    "- https://pytorch.org/docs/stable/torchvision/datasets.html\n",
    "\n",
    "We also recommend that you write a blog about your approach to the problem. Here is a suggested structure for your post (feel free to experiment with it):\n",
    "\n",
    "- Interesting title & subtitle\n",
    "- Overview of what the blog covers (which dataset, linear regression or logistic regression, intro to PyTorch)\n",
    "- Downloading & exploring the data\n",
    "- Preparing the data for training\n",
    "- Creating a model using PyTorch\n",
    "- Training the model to fit the data\n",
    "- Your thoughts on how to experiment with different hyperparmeters to reduce loss\n",
    "- Making predictions using the model\n",
    "\n",
    "As with the previous assignment, you can [embed Juptyer notebook cells & outputs from Jovian](https://medium.com/jovianml/share-and-embed-jupyter-notebooks-online-with-jovian-ml-df709a03064e) into your blog. \n",
    "\n",
    "Don't forget to share your work on the forum: https://jovian.ai/forum/t/linear-regression-and-logistic-regression-notebooks-and-blog-posts/14039"
   ]
  },
  {
   "cell_type": "code",
   "execution_count": 311,
   "metadata": {
    "colab": {
     "base_uri": "https://localhost:8080/",
     "height": 170
    },
    "executionInfo": {
     "elapsed": 4400,
     "status": "ok",
     "timestamp": 1611664124289,
     "user": {
      "displayName": "RIYA LAMBA",
      "photoUrl": "https://lh6.googleusercontent.com/-0cgP7UWnuGU/AAAAAAAAAAI/AAAAAAAAAHI/bB7sL8n8DaQ/s64/photo.jpg",
      "userId": "02188969418639816712"
     },
     "user_tz": -330
    },
    "id": "8Li5XOkuzlax",
    "outputId": "54c230d1-0a31-4210-9c7a-dd6f6c5e1569"
   },
   "outputs": [
    {
     "name": "stdout",
     "output_type": "stream",
     "text": [
      "[jovian] Detected Colab notebook...\u001b[0m\n",
      "[jovian] Uploading colab notebook to Jovian...\u001b[0m\n",
      "[jovian] Attaching records (metrics, hyperparameters, dataset etc.)\u001b[0m\n",
      "[jovian] Committed successfully! https://jovian.ai/2019mcb1229/02-insurance-linear-regression\u001b[0m\n",
      "[jovian] Detected Colab notebook...\u001b[0m\n",
      "[jovian] Uploading colab notebook to Jovian...\u001b[0m\n",
      "[jovian] Attaching records (metrics, hyperparameters, dataset etc.)\u001b[0m\n",
      "[jovian] Committed successfully! https://jovian.ai/2019mcb1229/02-insurance-linear-regression\u001b[0m\n"
     ]
    },
    {
     "data": {
      "application/vnd.google.colaboratory.intrinsic+json": {
       "type": "string"
      },
      "text/plain": [
       "'https://jovian.ai/2019mcb1229/02-insurance-linear-regression'"
      ]
     },
     "execution_count": 311,
     "metadata": {
      "tags": []
     },
     "output_type": "execute_result"
    }
   ],
   "source": [
    "jovian.commit(project=project_name, environment=None)\n",
    "jovian.commit(project=project_name, environment=None) # try again, kaggle fails sometimes"
   ]
  },
  {
   "cell_type": "code",
   "execution_count": null,
   "metadata": {
    "id": "85yisLO1zlay"
   },
   "outputs": [],
   "source": []
  }
 ],
 "metadata": {
  "colab": {
   "collapsed_sections": [],
   "name": "02-insurance-linear.ipynb",
   "provenance": []
  },
  "kernelspec": {
   "display_name": "Python 3",
   "language": "python",
   "name": "python3"
  },
  "language_info": {
   "codemirror_mode": {
    "name": "ipython",
    "version": 3
   },
   "file_extension": ".py",
   "mimetype": "text/x-python",
   "name": "python",
   "nbconvert_exporter": "python",
   "pygments_lexer": "ipython3",
   "version": "3.8.5"
  }
 },
 "nbformat": 4,
 "nbformat_minor": 0
}